{
 "cells": [
  {
   "cell_type": "code",
   "execution_count": 1,
   "id": "654ac692",
   "metadata": {},
   "outputs": [],
   "source": [
    "import pandas as pd\n",
    "import os\n",
    "import re"
   ]
  },
  {
   "cell_type": "code",
   "execution_count": 24,
   "id": "f5d906ea",
   "metadata": {},
   "outputs": [],
   "source": [
    "data = pd.read_excel(r\"C:\\Users\\57417\\Desktop\\dataset1.xlsx\", names=[\"车型\", \"车速\"], header=None)"
   ]
  },
  {
   "cell_type": "code",
   "execution_count": 25,
   "id": "65d3c881",
   "metadata": {},
   "outputs": [
    {
     "data": {
      "text/html": [
       "<div>\n",
       "<style scoped>\n",
       "    .dataframe tbody tr th:only-of-type {\n",
       "        vertical-align: middle;\n",
       "    }\n",
       "\n",
       "    .dataframe tbody tr th {\n",
       "        vertical-align: top;\n",
       "    }\n",
       "\n",
       "    .dataframe thead th {\n",
       "        text-align: right;\n",
       "    }\n",
       "</style>\n",
       "<table border=\"1\" class=\"dataframe\">\n",
       "  <thead>\n",
       "    <tr style=\"text-align: right;\">\n",
       "      <th></th>\n",
       "      <th>车型</th>\n",
       "      <th>车速</th>\n",
       "    </tr>\n",
       "  </thead>\n",
       "  <tbody>\n",
       "    <tr>\n",
       "      <th>0</th>\n",
       "      <td>小</td>\n",
       "      <td>中</td>\n",
       "    </tr>\n",
       "    <tr>\n",
       "      <th>1</th>\n",
       "      <td>小</td>\n",
       "      <td>低</td>\n",
       "    </tr>\n",
       "    <tr>\n",
       "      <th>2</th>\n",
       "      <td>中</td>\n",
       "      <td>低</td>\n",
       "    </tr>\n",
       "    <tr>\n",
       "      <th>3</th>\n",
       "      <td>小</td>\n",
       "      <td>低</td>\n",
       "    </tr>\n",
       "    <tr>\n",
       "      <th>4</th>\n",
       "      <td>小</td>\n",
       "      <td>低</td>\n",
       "    </tr>\n",
       "    <tr>\n",
       "      <th>...</th>\n",
       "      <td>...</td>\n",
       "      <td>...</td>\n",
       "    </tr>\n",
       "    <tr>\n",
       "      <th>127</th>\n",
       "      <td>小</td>\n",
       "      <td>中</td>\n",
       "    </tr>\n",
       "    <tr>\n",
       "      <th>128</th>\n",
       "      <td>小</td>\n",
       "      <td>高</td>\n",
       "    </tr>\n",
       "    <tr>\n",
       "      <th>129</th>\n",
       "      <td>小</td>\n",
       "      <td>中</td>\n",
       "    </tr>\n",
       "    <tr>\n",
       "      <th>130</th>\n",
       "      <td>小</td>\n",
       "      <td>中</td>\n",
       "    </tr>\n",
       "    <tr>\n",
       "      <th>131</th>\n",
       "      <td>中</td>\n",
       "      <td>低</td>\n",
       "    </tr>\n",
       "  </tbody>\n",
       "</table>\n",
       "<p>132 rows × 2 columns</p>\n",
       "</div>"
      ],
      "text/plain": [
       "    车型 车速\n",
       "0    小  中\n",
       "1    小  低\n",
       "2    中  低\n",
       "3    小  低\n",
       "4    小  低\n",
       "..  .. ..\n",
       "127  小  中\n",
       "128  小  高\n",
       "129  小  中\n",
       "130  小  中\n",
       "131  中  低\n",
       "\n",
       "[132 rows x 2 columns]"
      ]
     },
     "execution_count": 25,
     "metadata": {},
     "output_type": "execute_result"
    }
   ],
   "source": [
    "data"
   ]
  },
  {
   "cell_type": "code",
   "execution_count": 26,
   "id": "2839a79d",
   "metadata": {},
   "outputs": [],
   "source": [
    "size_dict = {\n",
    "    \"小\":\"small_size\",\n",
    "    \"中\":\"middle_size\",\n",
    "    \"大\":\"large_size\",\n",
    "    \"公\":\"bus\"\n",
    "}\n",
    "velocity_dict = {\n",
    "    \"低\":\"low_speed\",\n",
    "    \"中\":\"middle_speed\",\n",
    "    \"高\":\"high_speed\"\n",
    "}"
   ]
  },
  {
   "cell_type": "code",
   "execution_count": 27,
   "id": "e0ca1c8b",
   "metadata": {},
   "outputs": [],
   "source": [
    "data_length = data.index.values[-1] + 1\n",
    "data.insert(0, \"样本编号\", '')\n",
    "start_index = 103\n",
    "for i in range(data_length):\n",
    "    size = data.iat[i, 1].strip()\n",
    "    speed = data.iat[i, 2].strip()\n",
    "    data.iat[i, 0] = \"sample\" + str(i + start_index)\n",
    "    data.iat[i, 1] = size_dict[size]\n",
    "    data.iat[i, 2] = velocity_dict[speed]"
   ]
  },
  {
   "cell_type": "code",
   "execution_count": 28,
   "id": "7dffc60a",
   "metadata": {},
   "outputs": [
    {
     "data": {
      "text/html": [
       "<div>\n",
       "<style scoped>\n",
       "    .dataframe tbody tr th:only-of-type {\n",
       "        vertical-align: middle;\n",
       "    }\n",
       "\n",
       "    .dataframe tbody tr th {\n",
       "        vertical-align: top;\n",
       "    }\n",
       "\n",
       "    .dataframe thead th {\n",
       "        text-align: right;\n",
       "    }\n",
       "</style>\n",
       "<table border=\"1\" class=\"dataframe\">\n",
       "  <thead>\n",
       "    <tr style=\"text-align: right;\">\n",
       "      <th></th>\n",
       "      <th>样本编号</th>\n",
       "      <th>车型</th>\n",
       "      <th>车速</th>\n",
       "    </tr>\n",
       "  </thead>\n",
       "  <tbody>\n",
       "    <tr>\n",
       "      <th>0</th>\n",
       "      <td>sample103</td>\n",
       "      <td>small_size</td>\n",
       "      <td>middle_speed</td>\n",
       "    </tr>\n",
       "    <tr>\n",
       "      <th>1</th>\n",
       "      <td>sample104</td>\n",
       "      <td>small_size</td>\n",
       "      <td>low_speed</td>\n",
       "    </tr>\n",
       "    <tr>\n",
       "      <th>2</th>\n",
       "      <td>sample105</td>\n",
       "      <td>middle_size</td>\n",
       "      <td>low_speed</td>\n",
       "    </tr>\n",
       "    <tr>\n",
       "      <th>3</th>\n",
       "      <td>sample106</td>\n",
       "      <td>small_size</td>\n",
       "      <td>low_speed</td>\n",
       "    </tr>\n",
       "    <tr>\n",
       "      <th>4</th>\n",
       "      <td>sample107</td>\n",
       "      <td>small_size</td>\n",
       "      <td>low_speed</td>\n",
       "    </tr>\n",
       "    <tr>\n",
       "      <th>...</th>\n",
       "      <td>...</td>\n",
       "      <td>...</td>\n",
       "      <td>...</td>\n",
       "    </tr>\n",
       "    <tr>\n",
       "      <th>127</th>\n",
       "      <td>sample230</td>\n",
       "      <td>small_size</td>\n",
       "      <td>middle_speed</td>\n",
       "    </tr>\n",
       "    <tr>\n",
       "      <th>128</th>\n",
       "      <td>sample231</td>\n",
       "      <td>small_size</td>\n",
       "      <td>high_speed</td>\n",
       "    </tr>\n",
       "    <tr>\n",
       "      <th>129</th>\n",
       "      <td>sample232</td>\n",
       "      <td>small_size</td>\n",
       "      <td>middle_speed</td>\n",
       "    </tr>\n",
       "    <tr>\n",
       "      <th>130</th>\n",
       "      <td>sample233</td>\n",
       "      <td>small_size</td>\n",
       "      <td>middle_speed</td>\n",
       "    </tr>\n",
       "    <tr>\n",
       "      <th>131</th>\n",
       "      <td>sample234</td>\n",
       "      <td>middle_size</td>\n",
       "      <td>low_speed</td>\n",
       "    </tr>\n",
       "  </tbody>\n",
       "</table>\n",
       "<p>132 rows × 3 columns</p>\n",
       "</div>"
      ],
      "text/plain": [
       "          样本编号           车型            车速\n",
       "0    sample103   small_size  middle_speed\n",
       "1    sample104   small_size     low_speed\n",
       "2    sample105  middle_size     low_speed\n",
       "3    sample106   small_size     low_speed\n",
       "4    sample107   small_size     low_speed\n",
       "..         ...          ...           ...\n",
       "127  sample230   small_size  middle_speed\n",
       "128  sample231   small_size    high_speed\n",
       "129  sample232   small_size  middle_speed\n",
       "130  sample233   small_size  middle_speed\n",
       "131  sample234  middle_size     low_speed\n",
       "\n",
       "[132 rows x 3 columns]"
      ]
     },
     "execution_count": 28,
     "metadata": {},
     "output_type": "execute_result"
    }
   ],
   "source": [
    "data"
   ]
  },
  {
   "cell_type": "code",
   "execution_count": 29,
   "id": "0c8265e3",
   "metadata": {},
   "outputs": [],
   "source": [
    "data.to_excel(r\"dataset_new.xlsx\", index=None)"
   ]
  },
  {
   "cell_type": "code",
   "execution_count": 22,
   "id": "87adfedc",
   "metadata": {},
   "outputs": [],
   "source": [
    "data_dir = r\"C:\\Users\\57417\\Desktop\\data2\\data2\""
   ]
  },
  {
   "cell_type": "code",
   "execution_count": 30,
   "id": "d3e990d6",
   "metadata": {},
   "outputs": [],
   "source": [
    "voice_list = os.listdir(data_dir)\n",
    "sorted(voice_list)\n",
    "start = 103\n",
    "for voice in voice_list:\n",
    "    src_path = os.path.join(data_dir, voice)\n",
    "    dst_path = os.path.join(data_dir, \"sample\" + str(start)+\".m4a\")\n",
    "    os.rename(src_path, dst_path)\n",
    "    start += 1"
   ]
  },
  {
   "cell_type": "code",
   "execution_count": 59,
   "id": "2614b5f7",
   "metadata": {},
   "outputs": [
    {
     "data": {
      "text/plain": [
       "array([  0,   1,   2,   3,   4,   5,   6,   7,   8,   9,  10,  11,  12,\n",
       "        13,  14,  15,  16,  17,  18,  19,  20,  21,  22,  23,  24,  25,\n",
       "        26,  27,  28,  29,  30,  31,  32,  33,  34,  35,  36,  37,  38,\n",
       "        39,  40,  41,  42,  43,  44,  45,  46,  47,  48,  49,  50,  51,\n",
       "        52,  53,  54,  55,  56,  57,  58,  59,  60,  61,  62,  63,  64,\n",
       "        65,  66,  67,  68,  69,  70,  71,  72,  73,  74,  75,  76,  77,\n",
       "        78,  79,  80,  81,  82,  83,  84,  85,  86,  87,  88,  89,  90,\n",
       "        91,  92,  93,  94,  95,  96,  97,  98,  99, 100, 101], dtype=int64)"
      ]
     },
     "execution_count": 59,
     "metadata": {},
     "output_type": "execute_result"
    }
   ],
   "source": [
    "data.index.values"
   ]
  },
  {
   "cell_type": "code",
   "execution_count": null,
   "id": "271d37ce",
   "metadata": {},
   "outputs": [],
   "source": []
  }
 ],
 "metadata": {
  "kernelspec": {
   "display_name": "Python 3 (ipykernel)",
   "language": "python",
   "name": "python3"
  },
  "language_info": {
   "codemirror_mode": {
    "name": "ipython",
    "version": 3
   },
   "file_extension": ".py",
   "mimetype": "text/x-python",
   "name": "python",
   "nbconvert_exporter": "python",
   "pygments_lexer": "ipython3",
   "version": "3.7.6"
  }
 },
 "nbformat": 4,
 "nbformat_minor": 5
}
